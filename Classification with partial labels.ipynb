{
 "cells": [
  {
   "cell_type": "code",
   "execution_count": 1,
   "metadata": {},
   "outputs": [],
   "source": [
    "import numpy as np\n",
    "import pandas as pd\n",
    "import matplotlib.pyplot as plt\n",
    "import seaborn as sns\n",
    "%matplotlib inline"
   ]
  },
  {
   "cell_type": "code",
   "execution_count": 2,
   "metadata": {},
   "outputs": [],
   "source": [
    "df_valid =  pd.read_csv(\"valid.csv\")"
   ]
  },
  {
   "cell_type": "code",
   "execution_count": 3,
   "metadata": {},
   "outputs": [
    {
     "data": {
      "text/html": [
       "<div>\n",
       "<style scoped>\n",
       "    .dataframe tbody tr th:only-of-type {\n",
       "        vertical-align: middle;\n",
       "    }\n",
       "\n",
       "    .dataframe tbody tr th {\n",
       "        vertical-align: top;\n",
       "    }\n",
       "\n",
       "    .dataframe thead th {\n",
       "        text-align: right;\n",
       "    }\n",
       "</style>\n",
       "<table border=\"1\" class=\"dataframe\">\n",
       "  <thead>\n",
       "    <tr style=\"text-align: right;\">\n",
       "      <th></th>\n",
       "      <th>t</th>\n",
       "      <th>x_1</th>\n",
       "      <th>x_2</th>\n",
       "      <th>y</th>\n",
       "    </tr>\n",
       "  </thead>\n",
       "  <tbody>\n",
       "    <tr>\n",
       "      <th>0</th>\n",
       "      <td>0.0</td>\n",
       "      <td>-3.045520</td>\n",
       "      <td>-1.857371</td>\n",
       "      <td>0</td>\n",
       "    </tr>\n",
       "    <tr>\n",
       "      <th>1</th>\n",
       "      <td>0.0</td>\n",
       "      <td>-3.998597</td>\n",
       "      <td>0.368850</td>\n",
       "      <td>0</td>\n",
       "    </tr>\n",
       "    <tr>\n",
       "      <th>2</th>\n",
       "      <td>0.0</td>\n",
       "      <td>-4.789953</td>\n",
       "      <td>-0.689660</td>\n",
       "      <td>0</td>\n",
       "    </tr>\n",
       "    <tr>\n",
       "      <th>3</th>\n",
       "      <td>0.0</td>\n",
       "      <td>-3.596480</td>\n",
       "      <td>-2.434832</td>\n",
       "      <td>0</td>\n",
       "    </tr>\n",
       "    <tr>\n",
       "      <th>4</th>\n",
       "      <td>0.0</td>\n",
       "      <td>-1.830972</td>\n",
       "      <td>-3.134346</td>\n",
       "      <td>0</td>\n",
       "    </tr>\n",
       "    <tr>\n",
       "      <th>...</th>\n",
       "      <td>...</td>\n",
       "      <td>...</td>\n",
       "      <td>...</td>\n",
       "      <td>...</td>\n",
       "    </tr>\n",
       "    <tr>\n",
       "      <th>119</th>\n",
       "      <td>1.0</td>\n",
       "      <td>1.058212</td>\n",
       "      <td>0.255453</td>\n",
       "      <td>0</td>\n",
       "    </tr>\n",
       "    <tr>\n",
       "      <th>120</th>\n",
       "      <td>1.0</td>\n",
       "      <td>0.483792</td>\n",
       "      <td>-0.076837</td>\n",
       "      <td>1</td>\n",
       "    </tr>\n",
       "    <tr>\n",
       "      <th>121</th>\n",
       "      <td>1.0</td>\n",
       "      <td>1.200855</td>\n",
       "      <td>-0.093769</td>\n",
       "      <td>0</td>\n",
       "    </tr>\n",
       "    <tr>\n",
       "      <th>122</th>\n",
       "      <td>1.0</td>\n",
       "      <td>1.107385</td>\n",
       "      <td>1.407071</td>\n",
       "      <td>0</td>\n",
       "    </tr>\n",
       "    <tr>\n",
       "      <th>123</th>\n",
       "      <td>1.0</td>\n",
       "      <td>1.517267</td>\n",
       "      <td>2.355124</td>\n",
       "      <td>0</td>\n",
       "    </tr>\n",
       "  </tbody>\n",
       "</table>\n",
       "<p>124 rows × 4 columns</p>\n",
       "</div>"
      ],
      "text/plain": [
       "       t       x_1       x_2  y\n",
       "0    0.0 -3.045520 -1.857371  0\n",
       "1    0.0 -3.998597  0.368850  0\n",
       "2    0.0 -4.789953 -0.689660  0\n",
       "3    0.0 -3.596480 -2.434832  0\n",
       "4    0.0 -1.830972 -3.134346  0\n",
       "..   ...       ...       ... ..\n",
       "119  1.0  1.058212  0.255453  0\n",
       "120  1.0  0.483792 -0.076837  1\n",
       "121  1.0  1.200855 -0.093769  0\n",
       "122  1.0  1.107385  1.407071  0\n",
       "123  1.0  1.517267  2.355124  0\n",
       "\n",
       "[124 rows x 4 columns]"
      ]
     },
     "execution_count": 3,
     "metadata": {},
     "output_type": "execute_result"
    }
   ],
   "source": [
    "df_valid"
   ]
  },
  {
   "cell_type": "code",
   "execution_count": 4,
   "metadata": {},
   "outputs": [],
   "source": [
    "df_valid2 = df_valid[df_valid[\"y\"] == 1]"
   ]
  },
  {
   "cell_type": "code",
   "execution_count": 5,
   "metadata": {},
   "outputs": [
    {
     "data": {
      "text/html": [
       "<div>\n",
       "<style scoped>\n",
       "    .dataframe tbody tr th:only-of-type {\n",
       "        vertical-align: middle;\n",
       "    }\n",
       "\n",
       "    .dataframe tbody tr th {\n",
       "        vertical-align: top;\n",
       "    }\n",
       "\n",
       "    .dataframe thead th {\n",
       "        text-align: right;\n",
       "    }\n",
       "</style>\n",
       "<table border=\"1\" class=\"dataframe\">\n",
       "  <thead>\n",
       "    <tr style=\"text-align: right;\">\n",
       "      <th></th>\n",
       "      <th>t</th>\n",
       "      <th>x_1</th>\n",
       "      <th>x_2</th>\n",
       "      <th>y</th>\n",
       "    </tr>\n",
       "  </thead>\n",
       "  <tbody>\n",
       "    <tr>\n",
       "      <th>62</th>\n",
       "      <td>1.0</td>\n",
       "      <td>1.937371</td>\n",
       "      <td>2.669655</td>\n",
       "      <td>1</td>\n",
       "    </tr>\n",
       "    <tr>\n",
       "      <th>72</th>\n",
       "      <td>1.0</td>\n",
       "      <td>1.103368</td>\n",
       "      <td>1.011115</td>\n",
       "      <td>1</td>\n",
       "    </tr>\n",
       "    <tr>\n",
       "      <th>74</th>\n",
       "      <td>1.0</td>\n",
       "      <td>0.958888</td>\n",
       "      <td>-0.699755</td>\n",
       "      <td>1</td>\n",
       "    </tr>\n",
       "    <tr>\n",
       "      <th>75</th>\n",
       "      <td>1.0</td>\n",
       "      <td>1.341845</td>\n",
       "      <td>-0.608916</td>\n",
       "      <td>1</td>\n",
       "    </tr>\n",
       "    <tr>\n",
       "      <th>85</th>\n",
       "      <td>1.0</td>\n",
       "      <td>1.163915</td>\n",
       "      <td>1.151881</td>\n",
       "      <td>1</td>\n",
       "    </tr>\n",
       "    <tr>\n",
       "      <th>93</th>\n",
       "      <td>1.0</td>\n",
       "      <td>1.751106</td>\n",
       "      <td>2.550528</td>\n",
       "      <td>1</td>\n",
       "    </tr>\n",
       "    <tr>\n",
       "      <th>95</th>\n",
       "      <td>1.0</td>\n",
       "      <td>1.611664</td>\n",
       "      <td>1.289542</td>\n",
       "      <td>1</td>\n",
       "    </tr>\n",
       "    <tr>\n",
       "      <th>103</th>\n",
       "      <td>1.0</td>\n",
       "      <td>2.095140</td>\n",
       "      <td>4.081800</td>\n",
       "      <td>1</td>\n",
       "    </tr>\n",
       "    <tr>\n",
       "      <th>107</th>\n",
       "      <td>1.0</td>\n",
       "      <td>1.593561</td>\n",
       "      <td>2.708067</td>\n",
       "      <td>1</td>\n",
       "    </tr>\n",
       "    <tr>\n",
       "      <th>108</th>\n",
       "      <td>1.0</td>\n",
       "      <td>1.433955</td>\n",
       "      <td>1.456778</td>\n",
       "      <td>1</td>\n",
       "    </tr>\n",
       "    <tr>\n",
       "      <th>117</th>\n",
       "      <td>1.0</td>\n",
       "      <td>1.781538</td>\n",
       "      <td>3.152449</td>\n",
       "      <td>1</td>\n",
       "    </tr>\n",
       "    <tr>\n",
       "      <th>120</th>\n",
       "      <td>1.0</td>\n",
       "      <td>0.483792</td>\n",
       "      <td>-0.076837</td>\n",
       "      <td>1</td>\n",
       "    </tr>\n",
       "  </tbody>\n",
       "</table>\n",
       "</div>"
      ],
      "text/plain": [
       "       t       x_1       x_2  y\n",
       "62   1.0  1.937371  2.669655  1\n",
       "72   1.0  1.103368  1.011115  1\n",
       "74   1.0  0.958888 -0.699755  1\n",
       "75   1.0  1.341845 -0.608916  1\n",
       "85   1.0  1.163915  1.151881  1\n",
       "93   1.0  1.751106  2.550528  1\n",
       "95   1.0  1.611664  1.289542  1\n",
       "103  1.0  2.095140  4.081800  1\n",
       "107  1.0  1.593561  2.708067  1\n",
       "108  1.0  1.433955  1.456778  1\n",
       "117  1.0  1.781538  3.152449  1\n",
       "120  1.0  0.483792 -0.076837  1"
      ]
     },
     "execution_count": 5,
     "metadata": {},
     "output_type": "execute_result"
    }
   ],
   "source": [
    "df_valid2"
   ]
  },
  {
   "cell_type": "code",
   "execution_count": 6,
   "metadata": {},
   "outputs": [],
   "source": [
    "x1 = df_valid2[[\"x_1\"]].to_numpy()\n",
    "x2 = df_valid2[[\"x_2\"]].to_numpy()\n",
    "x = np.hstack((x1,x2))"
   ]
  },
  {
   "cell_type": "code",
   "execution_count": 7,
   "metadata": {},
   "outputs": [],
   "source": [
    "x_valid = np.hstack((np.ones((x.shape[0],1)),x1,x2))"
   ]
  },
  {
   "cell_type": "code",
   "execution_count": 8,
   "metadata": {},
   "outputs": [],
   "source": [
    "y_valid = df_valid2[[\"y\"]].to_numpy()"
   ]
  },
  {
   "cell_type": "code",
   "execution_count": 9,
   "metadata": {},
   "outputs": [
    {
     "data": {
      "text/plain": [
       "((12, 3), (12, 1))"
      ]
     },
     "execution_count": 9,
     "metadata": {},
     "output_type": "execute_result"
    }
   ],
   "source": [
    "x_valid.shape,y_valid.shape"
   ]
  },
  {
   "cell_type": "code",
   "execution_count": 10,
   "metadata": {},
   "outputs": [],
   "source": [
    "x = np.hstack((np.ones((df_valid.shape[0],1)),df_valid[[\"x_1\"]].to_numpy(),df_valid[[\"x_2\"]].to_numpy()))"
   ]
  },
  {
   "cell_type": "code",
   "execution_count": 11,
   "metadata": {},
   "outputs": [],
   "source": [
    "y = df_valid[[\"y\"]].to_numpy()"
   ]
  },
  {
   "cell_type": "code",
   "execution_count": 12,
   "metadata": {},
   "outputs": [
    {
     "data": {
      "text/plain": [
       "((124, 3), (124, 1))"
      ]
     },
     "execution_count": 12,
     "metadata": {},
     "output_type": "execute_result"
    }
   ],
   "source": [
    "x.shape,y.shape"
   ]
  },
  {
   "cell_type": "code",
   "execution_count": 13,
   "metadata": {},
   "outputs": [],
   "source": [
    "def sigmoid(z):\n",
    "    return 1 / (1 + np.exp(-z))"
   ]
  },
  {
   "cell_type": "code",
   "execution_count": 14,
   "metadata": {},
   "outputs": [],
   "source": [
    "def gradient(x,y,theta):\n",
    "    m = x.shape[0]\n",
    "    temp = (x.T @ (y - sigmoid(x@theta))) / m\n",
    "    return temp"
   ]
  },
  {
   "cell_type": "code",
   "execution_count": 15,
   "metadata": {},
   "outputs": [],
   "source": [
    "def training(x,y,theta,learning_rate,epochs):\n",
    "    for i in range(epochs):\n",
    "        theta = theta + learning_rate * gradient(x,y,theta)\n",
    "    return theta"
   ]
  },
  {
   "cell_type": "code",
   "execution_count": 16,
   "metadata": {},
   "outputs": [
    {
     "data": {
      "text/plain": [
       "array([[-2.88812415],\n",
       "       [ 0.79675594],\n",
       "       [ 0.0309376 ]])"
      ]
     },
     "execution_count": 16,
     "metadata": {},
     "output_type": "execute_result"
    }
   ],
   "source": [
    "theta = np.zeros((x.shape[1],1))\n",
    "theta = training(x,y,theta,0.2,2000000)\n",
    "theta"
   ]
  },
  {
   "cell_type": "code",
   "execution_count": 17,
   "metadata": {},
   "outputs": [],
   "source": [
    "alpha = (np.sum(sigmoid(x_valid @ theta),axis=0) / x_valid.shape[0]).item(0)"
   ]
  },
  {
   "cell_type": "code",
   "execution_count": 18,
   "metadata": {},
   "outputs": [
    {
     "data": {
      "text/plain": [
       "0.16174807476395375"
      ]
     },
     "execution_count": 18,
     "metadata": {},
     "output_type": "execute_result"
    }
   ],
   "source": [
    "alpha"
   ]
  },
  {
   "cell_type": "code",
   "execution_count": 19,
   "metadata": {},
   "outputs": [],
   "source": [
    "df_train = pd.read_csv('train.csv')"
   ]
  },
  {
   "cell_type": "code",
   "execution_count": 20,
   "metadata": {},
   "outputs": [],
   "source": [
    "x_train = np.hstack((np.ones((df_train.shape[0],1)),df_train[[\"x_1\"]].to_numpy(),df_train[[\"x_2\"]].to_numpy()))"
   ]
  },
  {
   "cell_type": "code",
   "execution_count": 21,
   "metadata": {},
   "outputs": [],
   "source": [
    "y_train = df_train[[\"y\"]].to_numpy()"
   ]
  },
  {
   "cell_type": "code",
   "execution_count": 22,
   "metadata": {},
   "outputs": [],
   "source": [
    "t_train = df_train[[\"t\"]].to_numpy()"
   ]
  },
  {
   "cell_type": "code",
   "execution_count": 23,
   "metadata": {},
   "outputs": [
    {
     "data": {
      "text/plain": [
       "array([[-2.91607454],\n",
       "       [ 0.78596651],\n",
       "       [ 0.09282768]])"
      ]
     },
     "execution_count": 23,
     "metadata": {},
     "output_type": "execute_result"
    }
   ],
   "source": [
    "theta_train = np.zeros((x_train.shape[1],1))\n",
    "theta_train = training(x_train,y_train,theta_train,0.1,50000)\n",
    "theta_train"
   ]
  },
  {
   "cell_type": "code",
   "execution_count": 24,
   "metadata": {},
   "outputs": [],
   "source": [
    "test_df =  pd.read_csv(\"test.csv\")"
   ]
  },
  {
   "cell_type": "code",
   "execution_count": 25,
   "metadata": {},
   "outputs": [],
   "source": [
    "x_test = np.hstack((np.ones((126,1)),test_df[[\"x_1\"]].to_numpy(),test_df[[\"x_2\"]].to_numpy()))"
   ]
  },
  {
   "cell_type": "code",
   "execution_count": 26,
   "metadata": {},
   "outputs": [],
   "source": [
    "y_test = test_df[[\"y\"]].to_numpy().astype(int)"
   ]
  },
  {
   "cell_type": "code",
   "execution_count": 27,
   "metadata": {},
   "outputs": [],
   "source": [
    "t_test = test_df[[\"t\"]].to_numpy().astype(int)"
   ]
  },
  {
   "cell_type": "code",
   "execution_count": 28,
   "metadata": {},
   "outputs": [
    {
     "data": {
      "text/html": [
       "<div>\n",
       "<style scoped>\n",
       "    .dataframe tbody tr th:only-of-type {\n",
       "        vertical-align: middle;\n",
       "    }\n",
       "\n",
       "    .dataframe tbody tr th {\n",
       "        vertical-align: top;\n",
       "    }\n",
       "\n",
       "    .dataframe thead th {\n",
       "        text-align: right;\n",
       "    }\n",
       "</style>\n",
       "<table border=\"1\" class=\"dataframe\">\n",
       "  <thead>\n",
       "    <tr style=\"text-align: right;\">\n",
       "      <th></th>\n",
       "      <th>t</th>\n",
       "      <th>x_1</th>\n",
       "      <th>x_2</th>\n",
       "      <th>y</th>\n",
       "      <th>y_predicted</th>\n",
       "    </tr>\n",
       "  </thead>\n",
       "  <tbody>\n",
       "    <tr>\n",
       "      <th>0</th>\n",
       "      <td>0.0</td>\n",
       "      <td>-1.548319</td>\n",
       "      <td>-2.762987</td>\n",
       "      <td>0</td>\n",
       "      <td>0.075767</td>\n",
       "    </tr>\n",
       "    <tr>\n",
       "      <th>1</th>\n",
       "      <td>0.0</td>\n",
       "      <td>-3.958870</td>\n",
       "      <td>-0.612780</td>\n",
       "      <td>0</td>\n",
       "      <td>0.014051</td>\n",
       "    </tr>\n",
       "    <tr>\n",
       "      <th>2</th>\n",
       "      <td>0.0</td>\n",
       "      <td>-2.276375</td>\n",
       "      <td>0.614934</td>\n",
       "      <td>0</td>\n",
       "      <td>0.058662</td>\n",
       "    </tr>\n",
       "    <tr>\n",
       "      <th>3</th>\n",
       "      <td>0.0</td>\n",
       "      <td>0.556287</td>\n",
       "      <td>-3.931406</td>\n",
       "      <td>0</td>\n",
       "      <td>0.340053</td>\n",
       "    </tr>\n",
       "    <tr>\n",
       "      <th>4</th>\n",
       "      <td>0.0</td>\n",
       "      <td>-1.491000</td>\n",
       "      <td>-2.159297</td>\n",
       "      <td>0</td>\n",
       "      <td>0.083717</td>\n",
       "    </tr>\n",
       "    <tr>\n",
       "      <th>...</th>\n",
       "      <td>...</td>\n",
       "      <td>...</td>\n",
       "      <td>...</td>\n",
       "      <td>...</td>\n",
       "      <td>...</td>\n",
       "    </tr>\n",
       "    <tr>\n",
       "      <th>1245</th>\n",
       "      <td>1.0</td>\n",
       "      <td>1.773462</td>\n",
       "      <td>3.542156</td>\n",
       "      <td>0</td>\n",
       "      <td>1.438376</td>\n",
       "    </tr>\n",
       "    <tr>\n",
       "      <th>1246</th>\n",
       "      <td>1.0</td>\n",
       "      <td>1.220733</td>\n",
       "      <td>3.636613</td>\n",
       "      <td>1</td>\n",
       "      <td>1.022190</td>\n",
       "    </tr>\n",
       "    <tr>\n",
       "      <th>1247</th>\n",
       "      <td>1.0</td>\n",
       "      <td>1.107772</td>\n",
       "      <td>1.625893</td>\n",
       "      <td>0</td>\n",
       "      <td>0.808264</td>\n",
       "    </tr>\n",
       "    <tr>\n",
       "      <th>1248</th>\n",
       "      <td>1.0</td>\n",
       "      <td>1.461093</td>\n",
       "      <td>0.558899</td>\n",
       "      <td>0</td>\n",
       "      <td>0.942268</td>\n",
       "    </tr>\n",
       "    <tr>\n",
       "      <th>1249</th>\n",
       "      <td>1.0</td>\n",
       "      <td>0.935221</td>\n",
       "      <td>2.900369</td>\n",
       "      <td>0</td>\n",
       "      <td>0.796177</td>\n",
       "    </tr>\n",
       "  </tbody>\n",
       "</table>\n",
       "<p>1250 rows × 5 columns</p>\n",
       "</div>"
      ],
      "text/plain": [
       "        t       x_1       x_2  y  y_predicted\n",
       "0     0.0 -1.548319 -2.762987  0     0.075767\n",
       "1     0.0 -3.958870 -0.612780  0     0.014051\n",
       "2     0.0 -2.276375  0.614934  0     0.058662\n",
       "3     0.0  0.556287 -3.931406  0     0.340053\n",
       "4     0.0 -1.491000 -2.159297  0     0.083717\n",
       "...   ...       ...       ... ..          ...\n",
       "1245  1.0  1.773462  3.542156  0     1.438376\n",
       "1246  1.0  1.220733  3.636613  1     1.022190\n",
       "1247  1.0  1.107772  1.625893  0     0.808264\n",
       "1248  1.0  1.461093  0.558899  0     0.942268\n",
       "1249  1.0  0.935221  2.900369  0     0.796177\n",
       "\n",
       "[1250 rows x 5 columns]"
      ]
     },
     "execution_count": 28,
     "metadata": {},
     "output_type": "execute_result"
    }
   ],
   "source": [
    "h_x = sigmoid(x_train @ theta_train) / alpha \n",
    "df_train[\"y_predicted\"] = h_x\n",
    "df_train"
   ]
  },
  {
   "cell_type": "code",
   "execution_count": 29,
   "metadata": {},
   "outputs": [],
   "source": [
    "df_train[\"error\"] = abs(df_train[\"y_predicted\"] - df_train[\"t\"])"
   ]
  },
  {
   "cell_type": "code",
   "execution_count": 30,
   "metadata": {},
   "outputs": [],
   "source": [
    "train_acc = df_train[(df_train[\"error\"] > 0.5)]"
   ]
  },
  {
   "cell_type": "code",
   "execution_count": 31,
   "metadata": {},
   "outputs": [
    {
     "data": {
      "text/html": [
       "<div>\n",
       "<style scoped>\n",
       "    .dataframe tbody tr th:only-of-type {\n",
       "        vertical-align: middle;\n",
       "    }\n",
       "\n",
       "    .dataframe tbody tr th {\n",
       "        vertical-align: top;\n",
       "    }\n",
       "\n",
       "    .dataframe thead th {\n",
       "        text-align: right;\n",
       "    }\n",
       "</style>\n",
       "<table border=\"1\" class=\"dataframe\">\n",
       "  <thead>\n",
       "    <tr style=\"text-align: right;\">\n",
       "      <th></th>\n",
       "      <th>t</th>\n",
       "      <th>x_1</th>\n",
       "      <th>x_2</th>\n",
       "      <th>y</th>\n",
       "      <th>y_predicted</th>\n",
       "    </tr>\n",
       "  </thead>\n",
       "  <tbody>\n",
       "    <tr>\n",
       "      <th>0</th>\n",
       "      <td>0.0</td>\n",
       "      <td>0.387421</td>\n",
       "      <td>-1.866760</td>\n",
       "      <td>0</td>\n",
       "      <td>0.359496</td>\n",
       "    </tr>\n",
       "    <tr>\n",
       "      <th>1</th>\n",
       "      <td>0.0</td>\n",
       "      <td>-2.356436</td>\n",
       "      <td>-1.168553</td>\n",
       "      <td>0</td>\n",
       "      <td>0.046770</td>\n",
       "    </tr>\n",
       "    <tr>\n",
       "      <th>2</th>\n",
       "      <td>0.0</td>\n",
       "      <td>-2.217217</td>\n",
       "      <td>-3.282972</td>\n",
       "      <td>0</td>\n",
       "      <td>0.042906</td>\n",
       "    </tr>\n",
       "    <tr>\n",
       "      <th>3</th>\n",
       "      <td>0.0</td>\n",
       "      <td>-1.373251</td>\n",
       "      <td>-4.551377</td>\n",
       "      <td>0</td>\n",
       "      <td>0.073669</td>\n",
       "    </tr>\n",
       "    <tr>\n",
       "      <th>4</th>\n",
       "      <td>0.0</td>\n",
       "      <td>-1.546461</td>\n",
       "      <td>-3.045420</td>\n",
       "      <td>0</td>\n",
       "      <td>0.073936</td>\n",
       "    </tr>\n",
       "    <tr>\n",
       "      <th>...</th>\n",
       "      <td>...</td>\n",
       "      <td>...</td>\n",
       "      <td>...</td>\n",
       "      <td>...</td>\n",
       "      <td>...</td>\n",
       "    </tr>\n",
       "    <tr>\n",
       "      <th>121</th>\n",
       "      <td>1.0</td>\n",
       "      <td>1.112134</td>\n",
       "      <td>2.380248</td>\n",
       "      <td>0</td>\n",
       "      <td>0.861286</td>\n",
       "    </tr>\n",
       "    <tr>\n",
       "      <th>122</th>\n",
       "      <td>1.0</td>\n",
       "      <td>1.048710</td>\n",
       "      <td>0.374687</td>\n",
       "      <td>0</td>\n",
       "      <td>0.700736</td>\n",
       "    </tr>\n",
       "    <tr>\n",
       "      <th>123</th>\n",
       "      <td>1.0</td>\n",
       "      <td>1.374204</td>\n",
       "      <td>3.876723</td>\n",
       "      <td>0</td>\n",
       "      <td>1.150015</td>\n",
       "    </tr>\n",
       "    <tr>\n",
       "      <th>124</th>\n",
       "      <td>1.0</td>\n",
       "      <td>2.081179</td>\n",
       "      <td>3.489406</td>\n",
       "      <td>1</td>\n",
       "      <td>1.716217</td>\n",
       "    </tr>\n",
       "    <tr>\n",
       "      <th>125</th>\n",
       "      <td>1.0</td>\n",
       "      <td>0.120048</td>\n",
       "      <td>-0.553010</td>\n",
       "      <td>0</td>\n",
       "      <td>0.330772</td>\n",
       "    </tr>\n",
       "  </tbody>\n",
       "</table>\n",
       "<p>126 rows × 5 columns</p>\n",
       "</div>"
      ],
      "text/plain": [
       "       t       x_1       x_2  y  y_predicted\n",
       "0    0.0  0.387421 -1.866760  0     0.359496\n",
       "1    0.0 -2.356436 -1.168553  0     0.046770\n",
       "2    0.0 -2.217217 -3.282972  0     0.042906\n",
       "3    0.0 -1.373251 -4.551377  0     0.073669\n",
       "4    0.0 -1.546461 -3.045420  0     0.073936\n",
       "..   ...       ...       ... ..          ...\n",
       "121  1.0  1.112134  2.380248  0     0.861286\n",
       "122  1.0  1.048710  0.374687  0     0.700736\n",
       "123  1.0  1.374204  3.876723  0     1.150015\n",
       "124  1.0  2.081179  3.489406  1     1.716217\n",
       "125  1.0  0.120048 -0.553010  0     0.330772\n",
       "\n",
       "[126 rows x 5 columns]"
      ]
     },
     "execution_count": 31,
     "metadata": {},
     "output_type": "execute_result"
    }
   ],
   "source": [
    "h_x = sigmoid(x_test @ theta_train) / alpha  \n",
    "test_df[\"y_predicted\"] = h_x\n",
    "test_df"
   ]
  },
  {
   "cell_type": "code",
   "execution_count": 32,
   "metadata": {},
   "outputs": [],
   "source": [
    "test_df[\"error\"] = abs(test_df[\"y_predicted\"] - test_df[\"t\"])"
   ]
  },
  {
   "cell_type": "code",
   "execution_count": 33,
   "metadata": {},
   "outputs": [],
   "source": [
    "test_acc = test_df[test_df[\"error\"] > 0.5]"
   ]
  },
  {
   "cell_type": "code",
   "execution_count": 34,
   "metadata": {},
   "outputs": [],
   "source": [
    "test_accuracy = (test_df.shape[0]-test_acc.shape[0]) / test_df.shape[0] * 100\n",
    "train_accuracy = (df_train.shape[0]-train_acc.shape[0]) / df_train.shape[0] * 100"
   ]
  },
  {
   "cell_type": "code",
   "execution_count": 35,
   "metadata": {},
   "outputs": [
    {
     "name": "stdout",
     "output_type": "stream",
     "text": [
      "Training accuracy = 88.64%\n",
      "Test accuracy = 88.88888888888889%\n"
     ]
    }
   ],
   "source": [
    "print(f\"Training accuracy = {train_accuracy}%\")\n",
    "print(f\"Test accuracy = {test_accuracy}%\")"
   ]
  },
  {
   "cell_type": "code",
   "execution_count": null,
   "metadata": {},
   "outputs": [],
   "source": []
  },
  {
   "cell_type": "code",
   "execution_count": null,
   "metadata": {},
   "outputs": [],
   "source": []
  }
 ],
 "metadata": {
  "kernelspec": {
   "display_name": "Python 3",
   "language": "python",
   "name": "python3"
  },
  "language_info": {
   "codemirror_mode": {
    "name": "ipython",
    "version": 3
   },
   "file_extension": ".py",
   "mimetype": "text/x-python",
   "name": "python",
   "nbconvert_exporter": "python",
   "pygments_lexer": "ipython3",
   "version": "3.6.5"
  }
 },
 "nbformat": 4,
 "nbformat_minor": 4
}
