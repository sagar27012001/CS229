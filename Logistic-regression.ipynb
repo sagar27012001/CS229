{
 "cells": [
  {
   "cell_type": "code",
   "execution_count": 1,
   "metadata": {},
   "outputs": [],
   "source": [
    "import numpy as np\n",
    "import pandas as pd\n",
    "import seaborn as sns\n",
    "import matplotlib.pyplot as plt\n",
    "%matplotlib inline"
   ]
  },
  {
   "cell_type": "code",
   "execution_count": 2,
   "metadata": {},
   "outputs": [],
   "source": [
    "df = pd.read_csv(\"train.csv\")"
   ]
  },
  {
   "cell_type": "code",
   "execution_count": 3,
   "metadata": {},
   "outputs": [
    {
     "data": {
      "text/html": [
       "<div>\n",
       "<style scoped>\n",
       "    .dataframe tbody tr th:only-of-type {\n",
       "        vertical-align: middle;\n",
       "    }\n",
       "\n",
       "    .dataframe tbody tr th {\n",
       "        vertical-align: top;\n",
       "    }\n",
       "\n",
       "    .dataframe thead th {\n",
       "        text-align: right;\n",
       "    }\n",
       "</style>\n",
       "<table border=\"1\" class=\"dataframe\">\n",
       "  <thead>\n",
       "    <tr style=\"text-align: right;\">\n",
       "      <th></th>\n",
       "      <th>t</th>\n",
       "      <th>x_1</th>\n",
       "      <th>x_2</th>\n",
       "      <th>y</th>\n",
       "    </tr>\n",
       "  </thead>\n",
       "  <tbody>\n",
       "    <tr>\n",
       "      <th>0</th>\n",
       "      <td>0.0</td>\n",
       "      <td>-1.548319</td>\n",
       "      <td>-2.762987</td>\n",
       "      <td>0</td>\n",
       "    </tr>\n",
       "    <tr>\n",
       "      <th>1</th>\n",
       "      <td>0.0</td>\n",
       "      <td>-3.958870</td>\n",
       "      <td>-0.612780</td>\n",
       "      <td>0</td>\n",
       "    </tr>\n",
       "    <tr>\n",
       "      <th>2</th>\n",
       "      <td>0.0</td>\n",
       "      <td>-2.276375</td>\n",
       "      <td>0.614934</td>\n",
       "      <td>0</td>\n",
       "    </tr>\n",
       "    <tr>\n",
       "      <th>3</th>\n",
       "      <td>0.0</td>\n",
       "      <td>0.556287</td>\n",
       "      <td>-3.931406</td>\n",
       "      <td>0</td>\n",
       "    </tr>\n",
       "    <tr>\n",
       "      <th>4</th>\n",
       "      <td>0.0</td>\n",
       "      <td>-1.491000</td>\n",
       "      <td>-2.159297</td>\n",
       "      <td>0</td>\n",
       "    </tr>\n",
       "    <tr>\n",
       "      <th>5</th>\n",
       "      <td>0.0</td>\n",
       "      <td>0.588697</td>\n",
       "      <td>1.076664</td>\n",
       "      <td>0</td>\n",
       "    </tr>\n",
       "    <tr>\n",
       "      <th>6</th>\n",
       "      <td>0.0</td>\n",
       "      <td>-2.492578</td>\n",
       "      <td>-1.026339</td>\n",
       "      <td>0</td>\n",
       "    </tr>\n",
       "    <tr>\n",
       "      <th>7</th>\n",
       "      <td>0.0</td>\n",
       "      <td>-0.931397</td>\n",
       "      <td>-3.666661</td>\n",
       "      <td>0</td>\n",
       "    </tr>\n",
       "    <tr>\n",
       "      <th>8</th>\n",
       "      <td>0.0</td>\n",
       "      <td>-0.761716</td>\n",
       "      <td>-4.177700</td>\n",
       "      <td>0</td>\n",
       "    </tr>\n",
       "    <tr>\n",
       "      <th>9</th>\n",
       "      <td>0.0</td>\n",
       "      <td>-1.026876</td>\n",
       "      <td>-0.213718</td>\n",
       "      <td>0</td>\n",
       "    </tr>\n",
       "    <tr>\n",
       "      <th>10</th>\n",
       "      <td>0.0</td>\n",
       "      <td>-2.169114</td>\n",
       "      <td>-1.583247</td>\n",
       "      <td>0</td>\n",
       "    </tr>\n",
       "    <tr>\n",
       "      <th>11</th>\n",
       "      <td>0.0</td>\n",
       "      <td>-3.777055</td>\n",
       "      <td>-4.234207</td>\n",
       "      <td>0</td>\n",
       "    </tr>\n",
       "    <tr>\n",
       "      <th>12</th>\n",
       "      <td>0.0</td>\n",
       "      <td>-1.247219</td>\n",
       "      <td>-0.632612</td>\n",
       "      <td>0</td>\n",
       "    </tr>\n",
       "    <tr>\n",
       "      <th>13</th>\n",
       "      <td>0.0</td>\n",
       "      <td>-1.566523</td>\n",
       "      <td>-2.600541</td>\n",
       "      <td>0</td>\n",
       "    </tr>\n",
       "    <tr>\n",
       "      <th>14</th>\n",
       "      <td>0.0</td>\n",
       "      <td>0.755031</td>\n",
       "      <td>-2.135508</td>\n",
       "      <td>0</td>\n",
       "    </tr>\n",
       "    <tr>\n",
       "      <th>15</th>\n",
       "      <td>0.0</td>\n",
       "      <td>-0.825174</td>\n",
       "      <td>0.777630</td>\n",
       "      <td>0</td>\n",
       "    </tr>\n",
       "    <tr>\n",
       "      <th>16</th>\n",
       "      <td>0.0</td>\n",
       "      <td>-1.280527</td>\n",
       "      <td>-2.444088</td>\n",
       "      <td>0</td>\n",
       "    </tr>\n",
       "    <tr>\n",
       "      <th>17</th>\n",
       "      <td>0.0</td>\n",
       "      <td>-2.939519</td>\n",
       "      <td>-2.235443</td>\n",
       "      <td>0</td>\n",
       "    </tr>\n",
       "    <tr>\n",
       "      <th>18</th>\n",
       "      <td>0.0</td>\n",
       "      <td>-1.009154</td>\n",
       "      <td>-2.435177</td>\n",
       "      <td>0</td>\n",
       "    </tr>\n",
       "    <tr>\n",
       "      <th>19</th>\n",
       "      <td>0.0</td>\n",
       "      <td>-0.299449</td>\n",
       "      <td>-3.903465</td>\n",
       "      <td>0</td>\n",
       "    </tr>\n",
       "  </tbody>\n",
       "</table>\n",
       "</div>"
      ],
      "text/plain": [
       "      t       x_1       x_2  y\n",
       "0   0.0 -1.548319 -2.762987  0\n",
       "1   0.0 -3.958870 -0.612780  0\n",
       "2   0.0 -2.276375  0.614934  0\n",
       "3   0.0  0.556287 -3.931406  0\n",
       "4   0.0 -1.491000 -2.159297  0\n",
       "5   0.0  0.588697  1.076664  0\n",
       "6   0.0 -2.492578 -1.026339  0\n",
       "7   0.0 -0.931397 -3.666661  0\n",
       "8   0.0 -0.761716 -4.177700  0\n",
       "9   0.0 -1.026876 -0.213718  0\n",
       "10  0.0 -2.169114 -1.583247  0\n",
       "11  0.0 -3.777055 -4.234207  0\n",
       "12  0.0 -1.247219 -0.632612  0\n",
       "13  0.0 -1.566523 -2.600541  0\n",
       "14  0.0  0.755031 -2.135508  0\n",
       "15  0.0 -0.825174  0.777630  0\n",
       "16  0.0 -1.280527 -2.444088  0\n",
       "17  0.0 -2.939519 -2.235443  0\n",
       "18  0.0 -1.009154 -2.435177  0\n",
       "19  0.0 -0.299449 -3.903465  0"
      ]
     },
     "execution_count": 3,
     "metadata": {},
     "output_type": "execute_result"
    }
   ],
   "source": [
    "df.head(20)"
   ]
  },
  {
   "cell_type": "code",
   "execution_count": 4,
   "metadata": {},
   "outputs": [],
   "source": [
    "x = np.hstack([np.ones((df.shape[0], 1)), df[[\"x_1\",\"x_2\"]].values])"
   ]
  },
  {
   "cell_type": "code",
   "execution_count": 5,
   "metadata": {},
   "outputs": [
    {
     "data": {
      "text/plain": [
       "array([[ 1.        , -1.54831899, -2.76298744],\n",
       "       [ 1.        , -3.95886967, -0.6127805 ],\n",
       "       [ 1.        , -2.27637464,  0.61493359],\n",
       "       ...,\n",
       "       [ 1.        ,  1.10777214,  1.62589313],\n",
       "       [ 1.        ,  1.46109326,  0.55889854],\n",
       "       [ 1.        ,  0.93522112,  2.9003691 ]])"
      ]
     },
     "execution_count": 5,
     "metadata": {},
     "output_type": "execute_result"
    }
   ],
   "source": [
    "x"
   ]
  },
  {
   "cell_type": "code",
   "execution_count": 6,
   "metadata": {},
   "outputs": [
    {
     "data": {
      "text/plain": [
       "(1250, 3)"
      ]
     },
     "execution_count": 6,
     "metadata": {},
     "output_type": "execute_result"
    }
   ],
   "source": [
    "x.shape"
   ]
  },
  {
   "cell_type": "code",
   "execution_count": 7,
   "metadata": {},
   "outputs": [],
   "source": [
    "y = df[[\"t\"]].to_numpy()"
   ]
  },
  {
   "cell_type": "code",
   "execution_count": 8,
   "metadata": {},
   "outputs": [
    {
     "data": {
      "text/plain": [
       "array([[0.],\n",
       "       [0.],\n",
       "       [0.],\n",
       "       ...,\n",
       "       [1.],\n",
       "       [1.],\n",
       "       [1.]])"
      ]
     },
     "execution_count": 8,
     "metadata": {},
     "output_type": "execute_result"
    }
   ],
   "source": [
    "y"
   ]
  },
  {
   "cell_type": "code",
   "execution_count": 9,
   "metadata": {},
   "outputs": [
    {
     "data": {
      "text/plain": [
       "(1250, 1)"
      ]
     },
     "execution_count": 9,
     "metadata": {},
     "output_type": "execute_result"
    }
   ],
   "source": [
    "y.shape"
   ]
  },
  {
   "cell_type": "code",
   "execution_count": 10,
   "metadata": {},
   "outputs": [],
   "source": [
    "y = y.astype(int)"
   ]
  },
  {
   "cell_type": "code",
   "execution_count": 11,
   "metadata": {},
   "outputs": [
    {
     "data": {
      "text/plain": [
       "(1250, 1)"
      ]
     },
     "execution_count": 11,
     "metadata": {},
     "output_type": "execute_result"
    }
   ],
   "source": [
    "y.shape"
   ]
  },
  {
   "cell_type": "code",
   "execution_count": 12,
   "metadata": {},
   "outputs": [
    {
     "name": "stdout",
     "output_type": "stream",
     "text": [
      "Zeros = 625\n",
      "Ones = 625\n"
     ]
    }
   ],
   "source": [
    "zeros = 0\n",
    "ones = 0\n",
    "for i in y.flatten():\n",
    "    if i==0:\n",
    "        zeros = zeros + 1\n",
    "    else:\n",
    "        ones = ones + 1\n",
    "print(f\"Zeros = {zeros}\\nOnes = {ones}\")"
   ]
  },
  {
   "cell_type": "code",
   "execution_count": 13,
   "metadata": {},
   "outputs": [
    {
     "name": "stdout",
     "output_type": "stream",
     "text": [
      "features = 2\n",
      "Training examples = 1250\n"
     ]
    }
   ],
   "source": [
    "features = x.shape[1]\n",
    "m = x.shape[0]\n",
    "print(f\"features = {features - 1}\")\n",
    "print(f\"Training examples = {m}\")"
   ]
  },
  {
   "cell_type": "code",
   "execution_count": 14,
   "metadata": {},
   "outputs": [
    {
     "data": {
      "text/plain": [
       "array([[0.],\n",
       "       [0.],\n",
       "       [0.]])"
      ]
     },
     "execution_count": 14,
     "metadata": {},
     "output_type": "execute_result"
    }
   ],
   "source": [
    "theta = np.zeros((features,1))\n",
    "theta"
   ]
  },
  {
   "cell_type": "code",
   "execution_count": 15,
   "metadata": {},
   "outputs": [],
   "source": [
    "def sigmoid(z):\n",
    "    return 1 / (1 + np.exp(-z))"
   ]
  },
  {
   "cell_type": "code",
   "execution_count": 16,
   "metadata": {},
   "outputs": [],
   "source": [
    "def cost(x,y,theta):\n",
    "    return -1/m * (y.T @ np.log(sigmoid(x @ theta)) + (1 - y).T @ np.log(1 - sigmoid(x@theta)))"
   ]
  },
  {
   "cell_type": "code",
   "execution_count": 17,
   "metadata": {},
   "outputs": [],
   "source": [
    "def compute_gradient(theta, x, y):\n",
    "    m = len(y)\n",
    "    n = len(theta)\n",
    "    hx = sigmoid(x @ theta)\n",
    "    gradient = (1 / m) * x.T @ (y-hx)\n",
    "    return gradient"
   ]
  },
  {
   "cell_type": "code",
   "execution_count": 18,
   "metadata": {},
   "outputs": [],
   "source": [
    "def training(x,y,theta,alpha,epochs):\n",
    "    for i in range(epochs):\n",
    "        theta = theta + alpha * compute_gradient(theta,x,y)\n",
    "        if i % 10000 == 0:\n",
    "            print(f\"Iteration = {i} theta = {theta}\")\n",
    "            print(f\"cost = {cost(x,y,theta)}\")\n",
    "    return theta"
   ]
  },
  {
   "cell_type": "code",
   "execution_count": 19,
   "metadata": {},
   "outputs": [
    {
     "name": "stdout",
     "output_type": "stream",
     "text": [
      "Iteration = 0 theta = [[-1.58293517e-18]\n",
      " [ 8.61246553e-02]\n",
      " [ 9.88564669e-02]]\n",
      "cost = [[0.54121729]]\n",
      "Iteration = 10000 theta = [[-0.97065353]\n",
      " [ 2.7315657 ]\n",
      " [ 1.07399323]]\n",
      "cost = [[0.09009744]]\n",
      "Iteration = 20000 theta = [[-0.97114142]\n",
      " [ 2.73208744]\n",
      " [ 1.07403475]]\n",
      "cost = [[0.09009744]]\n",
      "Iteration = 30000 theta = [[-0.9711418 ]\n",
      " [ 2.73208784]\n",
      " [ 1.07403478]]\n",
      "cost = [[0.09009744]]\n",
      "Iteration = 40000 theta = [[-0.9711418 ]\n",
      " [ 2.73208784]\n",
      " [ 1.07403478]]\n",
      "cost = [[0.09009744]]\n",
      "[[-0.9711418 ]\n",
      " [ 2.73208784]\n",
      " [ 1.07403478]]\n"
     ]
    }
   ],
   "source": [
    "theta_final = training(x,y,theta,0.1,50000)\n",
    "print(theta_final)"
   ]
  },
  {
   "cell_type": "code",
   "execution_count": 20,
   "metadata": {},
   "outputs": [
    {
     "data": {
      "text/plain": [
       "[<matplotlib.lines.Line2D at 0x154a047e780>]"
      ]
     },
     "execution_count": 20,
     "metadata": {},
     "output_type": "execute_result"
    },
    {
     "data": {
      "image/png": "[encoded data removed]",
      "text/plain": [
       "<Figure size 432x288 with 1 Axes>"
      ]
     },
     "metadata": {
      "needs_background": "light"
     },
     "output_type": "display_data"
    }
   ],
   "source": [
    "x1_vec = np.linspace(df[\"x_1\"].min(),df[\"x_1\"].max(),2)\n",
    "sns.scatterplot(x=\"x_1\", y=\"x_2\", hue=\"y\", data=df)\n",
    "plt.plot(x1_vec,(-x1_vec*theta_final[1]-theta_final[0])/theta_final[2], color=\"red\")"
   ]
  },
  {
   "cell_type": "code",
   "execution_count": 21,
   "metadata": {},
   "outputs": [],
   "source": [
    "df = pd.read_csv(\"test.csv\")"
   ]
  },
  {
   "cell_type": "code",
   "execution_count": 22,
   "metadata": {},
   "outputs": [],
   "source": [
    "x = np.hstack([np.ones((df.shape[0], 1)), df[[\"x_1\",\"x_2\"]].values])"
   ]
  },
  {
   "cell_type": "code",
   "execution_count": 23,
   "metadata": {},
   "outputs": [
    {
     "data": {
      "text/plain": [
       "(126, 3)"
      ]
     },
     "execution_count": 23,
     "metadata": {},
     "output_type": "execute_result"
    }
   ],
   "source": [
    "x.shape"
   ]
  },
  {
   "cell_type": "code",
   "execution_count": 24,
   "metadata": {},
   "outputs": [],
   "source": [
    "y = df[[\"t\"]].to_numpy().astype(int)"
   ]
  },
  {
   "cell_type": "code",
   "execution_count": 25,
   "metadata": {},
   "outputs": [
    {
     "data": {
      "text/plain": [
       "(126, 1)"
      ]
     },
     "execution_count": 25,
     "metadata": {},
     "output_type": "execute_result"
    }
   ],
   "source": [
    "y.shape"
   ]
  },
  {
   "cell_type": "code",
   "execution_count": 26,
   "metadata": {},
   "outputs": [
    {
     "data": {
      "text/plain": [
       "[<matplotlib.lines.Line2D at 0x154a047e240>]"
      ]
     },
     "execution_count": 26,
     "metadata": {},
     "output_type": "execute_result"
    },
    {
     "data": {
      "image/png": "[encoded data removed]",
      "text/plain": [
       "<Figure size 432x288 with 1 Axes>"
      ]
     },
     "metadata": {
      "needs_background": "light"
     },
     "output_type": "display_data"
    }
   ],
   "source": [
    "x1_vec = np.linspace(df[\"x_1\"].min(),df[\"x_1\"].max(),2)\n",
    "sns.scatterplot(x=\"x_1\", y=\"x_2\", hue=\"y\", data=df)\n",
    "plt.plot(x1_vec,(-x1_vec*theta_final[1]-theta_final[0])/theta_final[2], color=\"red\")"
   ]
  },
  {
   "cell_type": "code",
   "execution_count": 27,
   "metadata": {},
   "outputs": [
    {
     "name": "stdout",
     "output_type": "stream",
     "text": [
      "prediction = 1 y = 0\n",
      "prediction = 1 y = 0\n",
      "prediction = 0 y = 1\n",
      "123\n",
      "Accuracy = 97.61904761904762%\n"
     ]
    }
   ],
   "source": [
    "correct = 0\n",
    "m = x.shape[0]\n",
    "for i in range(m):\n",
    "    prediction = sigmoid(x[i] @ theta_final)\n",
    "    if prediction >= 0.5:\n",
    "        prediction = 1\n",
    "    else:\n",
    "        prediction = 0\n",
    "    if prediction == y.flatten()[i]:\n",
    "        correct += 1\n",
    "    else:\n",
    "        print(f\"prediction = {prediction} y = {y.flatten()[i]}\")\n",
    "print(correct)\n",
    "print(f\"Accuracy = {correct / m * 100}%\")"
   ]
  },
  {
   "cell_type": "code",
   "execution_count": null,
   "metadata": {},
   "outputs": [],
   "source": []
  },
  {
   "cell_type": "code",
   "execution_count": null,
   "metadata": {},
   "outputs": [],
   "source": []
  }
 ],
 "metadata": {
  "kernelspec": {
   "display_name": "Python 3",
   "language": "python",
   "name": "python3"
  },
  "language_info": {
   "codemirror_mode": {
    "name": "ipython",
    "version": 3
   },
   "file_extension": ".py",
   "mimetype": "text/x-python",
   "name": "python",
   "nbconvert_exporter": "python",
   "pygments_lexer": "ipython3",
   "version": "3.6.5"
  }
 },
 "nbformat": 4,
 "nbformat_minor": 4
}
