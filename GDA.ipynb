{
 "cells": [
  {
   "cell_type": "code",
   "execution_count": 1,
   "metadata": {},
   "outputs": [],
   "source": [
    "import numpy as np\n",
    "import matplotlib.pyplot as plt\n",
    "import pandas as pd\n",
    "import seaborn as sns\n",
    "%matplotlib inline"
   ]
  },
  {
   "cell_type": "code",
   "execution_count": 2,
   "metadata": {},
   "outputs": [],
   "source": [
    "df = pd.read_csv('ds1_train.csv')"
   ]
  },
  {
   "cell_type": "code",
   "execution_count": 3,
   "metadata": {},
   "outputs": [
    {
     "data": {
      "text/html": [
       "<div>\n",
       "<style scoped>\n",
       "    .dataframe tbody tr th:only-of-type {\n",
       "        vertical-align: middle;\n",
       "    }\n",
       "\n",
       "    .dataframe tbody tr th {\n",
       "        vertical-align: top;\n",
       "    }\n",
       "\n",
       "    .dataframe thead th {\n",
       "        text-align: right;\n",
       "    }\n",
       "</style>\n",
       "<table border=\"1\" class=\"dataframe\">\n",
       "  <thead>\n",
       "    <tr style=\"text-align: right;\">\n",
       "      <th></th>\n",
       "      <th>x_1</th>\n",
       "      <th>x_2</th>\n",
       "      <th>y</th>\n",
       "    </tr>\n",
       "  </thead>\n",
       "  <tbody>\n",
       "    <tr>\n",
       "      <th>0</th>\n",
       "      <td>0.411809</td>\n",
       "      <td>1.105525</td>\n",
       "      <td>0.0</td>\n",
       "    </tr>\n",
       "    <tr>\n",
       "      <th>1</th>\n",
       "      <td>1.274746</td>\n",
       "      <td>6.303314</td>\n",
       "      <td>0.0</td>\n",
       "    </tr>\n",
       "    <tr>\n",
       "      <th>2</th>\n",
       "      <td>0.115488</td>\n",
       "      <td>3.264251</td>\n",
       "      <td>0.0</td>\n",
       "    </tr>\n",
       "    <tr>\n",
       "      <th>3</th>\n",
       "      <td>-0.486306</td>\n",
       "      <td>0.279487</td>\n",
       "      <td>0.0</td>\n",
       "    </tr>\n",
       "    <tr>\n",
       "      <th>4</th>\n",
       "      <td>0.257625</td>\n",
       "      <td>1.212389</td>\n",
       "      <td>0.0</td>\n",
       "    </tr>\n",
       "    <tr>\n",
       "      <th>5</th>\n",
       "      <td>-1.526078</td>\n",
       "      <td>0.763353</td>\n",
       "      <td>0.0</td>\n",
       "    </tr>\n",
       "    <tr>\n",
       "      <th>6</th>\n",
       "      <td>0.567275</td>\n",
       "      <td>2.624184</td>\n",
       "      <td>0.0</td>\n",
       "    </tr>\n",
       "    <tr>\n",
       "      <th>7</th>\n",
       "      <td>0.263094</td>\n",
       "      <td>0.658812</td>\n",
       "      <td>0.0</td>\n",
       "    </tr>\n",
       "    <tr>\n",
       "      <th>8</th>\n",
       "      <td>0.275772</td>\n",
       "      <td>0.541577</td>\n",
       "      <td>0.0</td>\n",
       "    </tr>\n",
       "    <tr>\n",
       "      <th>9</th>\n",
       "      <td>-0.390170</td>\n",
       "      <td>1.403651</td>\n",
       "      <td>0.0</td>\n",
       "    </tr>\n",
       "  </tbody>\n",
       "</table>\n",
       "</div>"
      ],
      "text/plain": [
       "        x_1       x_2    y\n",
       "0  0.411809  1.105525  0.0\n",
       "1  1.274746  6.303314  0.0\n",
       "2  0.115488  3.264251  0.0\n",
       "3 -0.486306  0.279487  0.0\n",
       "4  0.257625  1.212389  0.0\n",
       "5 -1.526078  0.763353  0.0\n",
       "6  0.567275  2.624184  0.0\n",
       "7  0.263094  0.658812  0.0\n",
       "8  0.275772  0.541577  0.0\n",
       "9 -0.390170  1.403651  0.0"
      ]
     },
     "execution_count": 3,
     "metadata": {},
     "output_type": "execute_result"
    }
   ],
   "source": [
    "df.head(10)"
   ]
  },
  {
   "cell_type": "code",
   "execution_count": 4,
   "metadata": {},
   "outputs": [],
   "source": [
    "x = df[[\"x_1\",\"x_2\"]].to_numpy()"
   ]
  },
  {
   "cell_type": "code",
   "execution_count": 5,
   "metadata": {},
   "outputs": [
    {
     "data": {
      "text/plain": [
       "array([[0.41180854, 1.10552487],\n",
       "       [1.27474554, 6.30331401],\n",
       "       [0.11548828, 3.26425138],\n",
       "       ...,\n",
       "       [0.96909526, 4.51838094],\n",
       "       [1.95753102, 6.08296767],\n",
       "       [2.02533402, 2.72958809]])"
      ]
     },
     "execution_count": 5,
     "metadata": {},
     "output_type": "execute_result"
    }
   ],
   "source": [
    "x"
   ]
  },
  {
   "cell_type": "code",
   "execution_count": 6,
   "metadata": {},
   "outputs": [
    {
     "data": {
      "text/plain": [
       "(800, 2)"
      ]
     },
     "execution_count": 6,
     "metadata": {},
     "output_type": "execute_result"
    }
   ],
   "source": [
    "x.shape"
   ]
  },
  {
   "cell_type": "code",
   "execution_count": 7,
   "metadata": {},
   "outputs": [],
   "source": [
    "y = df[[\"y\"]].to_numpy()"
   ]
  },
  {
   "cell_type": "code",
   "execution_count": 8,
   "metadata": {},
   "outputs": [
    {
     "data": {
      "text/plain": [
       "(800, 1)"
      ]
     },
     "execution_count": 8,
     "metadata": {},
     "output_type": "execute_result"
    }
   ],
   "source": [
    "y.shape"
   ]
  },
  {
   "cell_type": "code",
   "execution_count": 9,
   "metadata": {},
   "outputs": [],
   "source": [
    "y = y.astype(int)"
   ]
  },
  {
   "cell_type": "code",
   "execution_count": 10,
   "metadata": {},
   "outputs": [
    {
     "data": {
      "text/plain": [
       "(800, 1)"
      ]
     },
     "execution_count": 10,
     "metadata": {},
     "output_type": "execute_result"
    }
   ],
   "source": [
    "y.shape"
   ]
  },
  {
   "cell_type": "code",
   "execution_count": 11,
   "metadata": {},
   "outputs": [
    {
     "data": {
      "text/plain": [
       "<matplotlib.axes._subplots.AxesSubplot at 0x18d2568bda0>"
      ]
     },
     "execution_count": 11,
     "metadata": {},
     "output_type": "execute_result"
    },
    {
     "data": {
      "image/png": "[encoded data removed]",
      "text/plain": [
       "<Figure size 432x288 with 1 Axes>"
      ]
     },
     "metadata": {
      "needs_background": "light"
     },
     "output_type": "display_data"
    }
   ],
   "source": [
    "sns.scatterplot(x=\"x_1\",y=\"x_2\",hue=\"y\",data=df)"
   ]
  },
  {
   "cell_type": "code",
   "execution_count": 12,
   "metadata": {},
   "outputs": [
    {
     "name": "stdout",
     "output_type": "stream",
     "text": [
      "Number of 0's = 400\n",
      "Number of 1's= 400\n"
     ]
    }
   ],
   "source": [
    "zero = 0\n",
    "ones = 0\n",
    "for i in range(len(y)):\n",
    "    if y.flatten()[i] == 0:\n",
    "        zero = zero + 1\n",
    "    else:\n",
    "        ones = ones + 1\n",
    "\n",
    "print(f\"Number of 0's = {zero}\\nNumber of 1's= {ones}\")"
   ]
  },
  {
   "cell_type": "code",
   "execution_count": 13,
   "metadata": {},
   "outputs": [
    {
     "data": {
      "text/plain": [
       "array([[0.47485551],\n",
       "       [2.37467434]])"
      ]
     },
     "execution_count": 13,
     "metadata": {},
     "output_type": "execute_result"
    }
   ],
   "source": [
    "#finding mu\n",
    "mu0numerator = 0\n",
    "mu0denominator = 0\n",
    "for i in range(len(y)):\n",
    "    if y.flatten()[i] == 0:\n",
    "        mu0numerator = mu0numerator + x[i]\n",
    "        mu0denominator = mu0denominator + 1\n",
    "mu0 = mu0numerator / mu0denominator\n",
    "mu0 = mu0.reshape(x.shape[1],1)\n",
    "mu0"
   ]
  },
  {
   "cell_type": "code",
   "execution_count": 14,
   "metadata": {},
   "outputs": [
    {
     "data": {
      "text/plain": [
       "array([[ 2.056795  ],\n",
       "       [12.46040313]])"
      ]
     },
     "execution_count": 14,
     "metadata": {},
     "output_type": "execute_result"
    }
   ],
   "source": [
    "mu1numerator = 0\n",
    "mu1denominator = 0\n",
    "for i in range(len(y)):\n",
    "    if y.flatten()[i] == 1:\n",
    "        mu1numerator = mu1numerator + x[i]\n",
    "        mu1denominator = mu1denominator + 1\n",
    "mu1 = mu1numerator / mu1denominator\n",
    "mu1 = mu1.reshape(x.shape[1],1)\n",
    "mu1"
   ]
  },
  {
   "cell_type": "code",
   "execution_count": 15,
   "metadata": {},
   "outputs": [
    {
     "data": {
      "text/plain": [
       "0.5"
      ]
     },
     "execution_count": 15,
     "metadata": {},
     "output_type": "execute_result"
    }
   ],
   "source": [
    "phi = 0\n",
    "for i in range(len(y)):\n",
    "    if y.flatten()[i] == 1:\n",
    "        phi = phi + 1\n",
    "phi = phi / len(y)\n",
    "phi"
   ]
  },
  {
   "cell_type": "code",
   "execution_count": 16,
   "metadata": {},
   "outputs": [
    {
     "data": {
      "text/plain": [
       "array([[  1.95365334,   6.26804658],\n",
       "       [  6.26804658, 154.60114461]])"
      ]
     },
     "execution_count": 16,
     "metadata": {},
     "output_type": "execute_result"
    }
   ],
   "source": [
    "# sigma should be of size (800,800)\n",
    "# because there are 800 training examples available\n",
    "sigma = np.array((x.shape[0],x.shape[0]))\n",
    "m = x.shape[0]\n",
    "for i in range(m):\n",
    "    if y.flatten()[i] == 0:\n",
    "        muyi = mu0\n",
    "    else:\n",
    "        muyi = mu1\n",
    "    xi = x[i,:].reshape(x.shape[1],1)\n",
    "    sigma = sigma + (xi-muyi).dot((xi-muyi).T)\n",
    "    \n",
    "sigma = sigma / m\n",
    "sigma"
   ]
  },
  {
   "cell_type": "code",
   "execution_count": 99,
   "metadata": {},
   "outputs": [
    {
     "data": {
      "text/plain": [
       "array([0.69021039, 0.03725366])"
      ]
     },
     "execution_count": 99,
     "metadata": {},
     "output_type": "execute_result"
    }
   ],
   "source": [
    "sigmaInv = np.linalg.inv(sigma)\n",
    "theta = sigmaInv.dot((mu1-mu0)).flatten()\n",
    "theta"
   ]
  },
  {
   "cell_type": "code",
   "execution_count": 100,
   "metadata": {},
   "outputs": [
    {
     "data": {
      "text/plain": [
       "-1.1500161832583138"
      ]
     },
     "execution_count": 100,
     "metadata": {},
     "output_type": "execute_result"
    }
   ],
   "source": [
    "theta0 = 1 / 2 * ((mu0.T.dot(sigmaInv)).dot(mu0) - (mu1.T.dot(sigmaInv)).dot(mu1)) - np.log((1 - phi) / phi)\n",
    "theta0 = theta0[0].item(0)\n",
    "theta0"
   ]
  },
  {
   "cell_type": "code",
   "execution_count": 37,
   "metadata": {},
   "outputs": [],
   "source": [
    "data = pd.read_csv(\"ds1_train.csv\")"
   ]
  },
  {
   "cell_type": "code",
   "execution_count": 38,
   "metadata": {},
   "outputs": [
    {
     "data": {
      "image/png": "[encoded data removed]",
      "text/plain": [
       "<Figure size 432x288 with 1 Axes>"
      ]
     },
     "metadata": {
      "needs_background": "light"
     },
     "output_type": "display_data"
    }
   ],
   "source": [
    "x1_vec = np.linspace(data[\"x_1\"].min(),data[\"x_1\"].max(),2)\n",
    "sns.scatterplot(x=\"x_1\", y=\"x_2\", hue=\"y\", data=data);\n",
    "theta1 = theta.item(0)\n",
    "theta2 = theta.item(1)\n",
    "theta_final = [theta0,theta1,theta2]\n",
    "plt.plot(x1_vec,(-x1_vec*theta_final[1]-theta_final[0])/theta_final[2], color=\"red\");"
   ]
  },
  {
   "cell_type": "code",
   "execution_count": 39,
   "metadata": {},
   "outputs": [],
   "source": [
    "data = pd.read_csv(\"ds1_test.csv\")"
   ]
  },
  {
   "cell_type": "code",
   "execution_count": 40,
   "metadata": {},
   "outputs": [
    {
     "data": {
      "image/png": "[encoded data removed]",
      "text/plain": [
       "<Figure size 432x288 with 1 Axes>"
      ]
     },
     "metadata": {
      "needs_background": "light"
     },
     "output_type": "display_data"
    }
   ],
   "source": [
    "x1_vec = np.linspace(data[\"x_1\"].min(),data[\"x_1\"].max(),2)\n",
    "sns.scatterplot(x=\"x_1\", y=\"x_2\", hue=\"y\", data=data);\n",
    "theta1 = theta.item(0)\n",
    "theta2 = theta.item(1)\n",
    "theta_final = [theta0,theta1,theta2]\n",
    "plt.plot(x1_vec,(-x1_vec*theta_final[1]-theta_final[0])/theta_final[2], color=\"red\");"
   ]
  },
  {
   "cell_type": "code",
   "execution_count": 53,
   "metadata": {},
   "outputs": [
    {
     "data": {
      "text/plain": [
       "(1, 2)"
      ]
     },
     "execution_count": 53,
     "metadata": {},
     "output_type": "execute_result"
    }
   ],
   "source": [
    "new_x = np.array([ [1.27474554, 6.30331401]])\n",
    "new_x.shape"
   ]
  },
  {
   "cell_type": "code",
   "execution_count": 54,
   "metadata": {},
   "outputs": [],
   "source": [
    "theta = theta.reshape(2,1)"
   ]
  },
  {
   "cell_type": "code",
   "execution_count": 177,
   "metadata": {},
   "outputs": [],
   "source": [
    "df = pd.read_csv(\"ds1_test.csv\")"
   ]
  },
  {
   "cell_type": "code",
   "execution_count": 178,
   "metadata": {},
   "outputs": [],
   "source": [
    "x = df[[\"x_1\",\"x_2\"]].to_numpy()"
   ]
  },
  {
   "cell_type": "code",
   "execution_count": 179,
   "metadata": {},
   "outputs": [],
   "source": [
    "y = df[[\"y\"]].to_numpy()"
   ]
  },
  {
   "cell_type": "code",
   "execution_count": 180,
   "metadata": {},
   "outputs": [
    {
     "data": {
      "text/plain": [
       "0.9059093267437073"
      ]
     },
     "execution_count": 180,
     "metadata": {},
     "output_type": "execute_result"
    }
   ],
   "source": [
    "prediction = 0\n",
    "new_x = np.array([[1.27474554, 6.30331401]])\n",
    "prediction = 1 / (1 + np.exp(-(((theta.T).dot((new_x.T))).item(0)) + theta0))\n",
    "prediction"
   ]
  },
  {
   "cell_type": "code",
   "execution_count": 182,
   "metadata": {},
   "outputs": [
    {
     "name": "stdout",
     "output_type": "stream",
     "text": [
      "Prediction on Test dataset\n",
      "Number of zero's predicted correctly = 38\n",
      "Number of one's predicted correctly = 40\n",
      "Total 0's = 50\n",
      "Total 1's = 50\n",
      "percentage of 0's predicted = 76.0\n",
      "percentage of 1's predicted = 80.0\n",
      "Number of counts = 78\n",
      "Total examples = 100\n",
      "Accuracy = 78.0%\n"
     ]
    }
   ],
   "source": [
    "count = 0\n",
    "zero = 0\n",
    "ones = 0\n",
    "total_zero = 0\n",
    "total_ones = 0\n",
    "total = x.shape[0]\n",
    "for i in range(x.shape[0]):\n",
    "    prediction = 1 / (1 + np.exp(-(((theta.T).dot((x[i,:].T))) + theta0)))\n",
    "    if prediction >= 0.5:\n",
    "        prediction = 1\n",
    "    else:\n",
    "        prediction = 0\n",
    "    if prediction == 0 and y.flatten()[i] == 0:\n",
    "#         print(prediction)\n",
    "        zero = zero + 1\n",
    "        count = count + 1\n",
    "    elif prediction == 1 and y.flatten()[i] == 1:\n",
    "#         print(prediction)\n",
    "        ones = ones + 1\n",
    "        count = count + 1\n",
    "    if y.flatten()[i] == 0:\n",
    "        total_zero += 1\n",
    "    else:\n",
    "        total_ones += 1\n",
    "        \n",
    "accuracy = count / total\n",
    "print(f\"Prediction on Test dataset\")\n",
    "print(f\"Number of zero's predicted correctly = {zero}\\nNumber of one's predicted correctly = {ones}\")\n",
    "print(f\"Total 0's = {total_zero}\\nTotal 1's = {total_ones}\")\n",
    "print(f\"percentage of 0's predicted = {zero / total_zero * 100}\\npercentage of 1's predicted = {ones / total_ones * 100}\")\n",
    "print(f\"Number of counts = {count}\\nTotal examples = {total}\")\n",
    "print(f\"Accuracy = {accuracy*100}%\")"
   ]
  },
  {
   "cell_type": "code",
   "execution_count": null,
   "metadata": {},
   "outputs": [],
   "source": []
  }
 ],
 "metadata": {
  "kernelspec": {
   "display_name": "Python 3",
   "language": "python",
   "name": "python3"
  },
  "language_info": {
   "codemirror_mode": {
    "name": "ipython",
    "version": 3
   },
   "file_extension": ".py",
   "mimetype": "text/x-python",
   "name": "python",
   "nbconvert_exporter": "python",
   "pygments_lexer": "ipython3",
   "version": "3.6.5"
  }
 },
 "nbformat": 4,
 "nbformat_minor": 4
}
