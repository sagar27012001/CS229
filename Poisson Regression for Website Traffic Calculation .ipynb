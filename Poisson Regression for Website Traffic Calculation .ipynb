{
 "cells": [
  {
   "cell_type": "code",
   "execution_count": 1,
   "metadata": {},
   "outputs": [],
   "source": [
    "import numpy as np\n",
    "import pandas as pd\n",
    "import matplotlib.pyplot as plt\n",
    "import seaborn as sns\n",
    "%matplotlib inline"
   ]
  },
  {
   "cell_type": "code",
   "execution_count": 2,
   "metadata": {},
   "outputs": [],
   "source": [
    "df = pd.read_csv(\"train.csv\")"
   ]
  },
  {
   "cell_type": "code",
   "execution_count": 3,
   "metadata": {},
   "outputs": [
    {
     "data": {
      "text/html": [
       "<div>\n",
       "<style scoped>\n",
       "    .dataframe tbody tr th:only-of-type {\n",
       "        vertical-align: middle;\n",
       "    }\n",
       "\n",
       "    .dataframe tbody tr th {\n",
       "        vertical-align: top;\n",
       "    }\n",
       "\n",
       "    .dataframe thead th {\n",
       "        text-align: right;\n",
       "    }\n",
       "</style>\n",
       "<table border=\"1\" class=\"dataframe\">\n",
       "  <thead>\n",
       "    <tr style=\"text-align: right;\">\n",
       "      <th></th>\n",
       "      <th>x_1</th>\n",
       "      <th>x_2</th>\n",
       "      <th>x_3</th>\n",
       "      <th>x_4</th>\n",
       "      <th>y</th>\n",
       "    </tr>\n",
       "  </thead>\n",
       "  <tbody>\n",
       "    <tr>\n",
       "      <th>0</th>\n",
       "      <td>1.0</td>\n",
       "      <td>0.0</td>\n",
       "      <td>2.976142</td>\n",
       "      <td>0.651482</td>\n",
       "      <td>10</td>\n",
       "    </tr>\n",
       "    <tr>\n",
       "      <th>1</th>\n",
       "      <td>0.0</td>\n",
       "      <td>1.0</td>\n",
       "      <td>1.411390</td>\n",
       "      <td>0.743732</td>\n",
       "      <td>12</td>\n",
       "    </tr>\n",
       "    <tr>\n",
       "      <th>2</th>\n",
       "      <td>0.0</td>\n",
       "      <td>1.0</td>\n",
       "      <td>1.039892</td>\n",
       "      <td>1.290588</td>\n",
       "      <td>7</td>\n",
       "    </tr>\n",
       "    <tr>\n",
       "      <th>3</th>\n",
       "      <td>1.0</td>\n",
       "      <td>0.0</td>\n",
       "      <td>2.338679</td>\n",
       "      <td>0.973942</td>\n",
       "      <td>15</td>\n",
       "    </tr>\n",
       "    <tr>\n",
       "      <th>4</th>\n",
       "      <td>0.0</td>\n",
       "      <td>1.0</td>\n",
       "      <td>2.385257</td>\n",
       "      <td>0.297921</td>\n",
       "      <td>9</td>\n",
       "    </tr>\n",
       "    <tr>\n",
       "      <th>...</th>\n",
       "      <td>...</td>\n",
       "      <td>...</td>\n",
       "      <td>...</td>\n",
       "      <td>...</td>\n",
       "      <td>...</td>\n",
       "    </tr>\n",
       "    <tr>\n",
       "      <th>2495</th>\n",
       "      <td>0.0</td>\n",
       "      <td>1.0</td>\n",
       "      <td>2.372802</td>\n",
       "      <td>1.658083</td>\n",
       "      <td>20</td>\n",
       "    </tr>\n",
       "    <tr>\n",
       "      <th>2496</th>\n",
       "      <td>0.0</td>\n",
       "      <td>1.0</td>\n",
       "      <td>2.681021</td>\n",
       "      <td>1.714153</td>\n",
       "      <td>16</td>\n",
       "    </tr>\n",
       "    <tr>\n",
       "      <th>2497</th>\n",
       "      <td>0.0</td>\n",
       "      <td>1.0</td>\n",
       "      <td>1.491243</td>\n",
       "      <td>0.841156</td>\n",
       "      <td>7</td>\n",
       "    </tr>\n",
       "    <tr>\n",
       "      <th>2498</th>\n",
       "      <td>0.0</td>\n",
       "      <td>1.0</td>\n",
       "      <td>2.863177</td>\n",
       "      <td>1.137934</td>\n",
       "      <td>12</td>\n",
       "    </tr>\n",
       "    <tr>\n",
       "      <th>2499</th>\n",
       "      <td>0.0</td>\n",
       "      <td>1.0</td>\n",
       "      <td>1.825617</td>\n",
       "      <td>0.059309</td>\n",
       "      <td>11</td>\n",
       "    </tr>\n",
       "  </tbody>\n",
       "</table>\n",
       "<p>2500 rows × 5 columns</p>\n",
       "</div>"
      ],
      "text/plain": [
       "      x_1  x_2       x_3       x_4   y\n",
       "0     1.0  0.0  2.976142  0.651482  10\n",
       "1     0.0  1.0  1.411390  0.743732  12\n",
       "2     0.0  1.0  1.039892  1.290588   7\n",
       "3     1.0  0.0  2.338679  0.973942  15\n",
       "4     0.0  1.0  2.385257  0.297921   9\n",
       "...   ...  ...       ...       ...  ..\n",
       "2495  0.0  1.0  2.372802  1.658083  20\n",
       "2496  0.0  1.0  2.681021  1.714153  16\n",
       "2497  0.0  1.0  1.491243  0.841156   7\n",
       "2498  0.0  1.0  2.863177  1.137934  12\n",
       "2499  0.0  1.0  1.825617  0.059309  11\n",
       "\n",
       "[2500 rows x 5 columns]"
      ]
     },
     "execution_count": 3,
     "metadata": {},
     "output_type": "execute_result"
    }
   ],
   "source": [
    "df"
   ]
  },
  {
   "cell_type": "code",
   "execution_count": 4,
   "metadata": {},
   "outputs": [],
   "source": [
    "x = np.hstack((np.ones((df.shape[0],1)),df[[\"x_1\"]].to_numpy(),df[[\"x_2\"]].to_numpy(),df[[\"x_3\"]].to_numpy(),df[[\"x_4\"]].to_numpy()))\n",
    "y = df[[\"y\"]].to_numpy()"
   ]
  },
  {
   "cell_type": "code",
   "execution_count": 5,
   "metadata": {},
   "outputs": [
    {
     "data": {
      "text/plain": [
       "((2500, 5), (2500, 1))"
      ]
     },
     "execution_count": 5,
     "metadata": {},
     "output_type": "execute_result"
    }
   ],
   "source": [
    "x.shape,y.shape"
   ]
  },
  {
   "cell_type": "code",
   "execution_count": 6,
   "metadata": {},
   "outputs": [],
   "source": [
    "def cost(x,y,theta):\n",
    "    co = np.sum(abs((y - np.exp(x @ theta))),axis=0) / x.shape[0]\n",
    "    return co"
   ]
  },
  {
   "cell_type": "code",
   "execution_count": 7,
   "metadata": {},
   "outputs": [],
   "source": [
    "def gradient(x,y,theta):\n",
    "    grad = x.T @ (y - np.exp(x @ theta)) / x.shape[0]\n",
    "    return grad"
   ]
  },
  {
   "cell_type": "code",
   "execution_count": 8,
   "metadata": {},
   "outputs": [],
   "source": [
    "def training(x,y,theta,eps,training_rate=1e-5):\n",
    "    delta = 1\n",
    "    iteration = 0\n",
    "    while delta > eps:\n",
    "        iteration += 1\n",
    "        theta_prev = theta.copy()\n",
    "        theta += training_rate * gradient(x,y,theta)\n",
    "        delta = np.linalg.norm(theta-theta_prev, ord=1)\n",
    "        if iteration % 10000 == 0:\n",
    "            print(f\"Iteration = {iteration} delta = {delta} Cost = {cost(x,y,theta)}\")\n",
    "    return theta"
   ]
  },
  {
   "cell_type": "code",
   "execution_count": 9,
   "metadata": {},
   "outputs": [
    {
     "name": "stdout",
     "output_type": "stream",
     "text": [
      "Iteration = 10000 delta = 3.0203904516634683e-05 Cost = [3.24910863]\n",
      "Iteration = 20000 delta = 2.1664718584141207e-05 Cost = [3.03587341]\n",
      "Iteration = 30000 delta = 1.661195407717808e-05 Cost = [2.88786936]\n",
      "Iteration = 40000 delta = 1.2902198289532762e-05 Cost = [2.78917215]\n",
      "Iteration = 50000 delta = 1.0548297923851369e-05 Cost = [2.71947212]\n",
      "Iteration = 60000 delta = 9.433436286676589e-06 Cost = [2.66839245]\n",
      "Iteration = 70000 delta = 8.437832304364346e-06 Cost = [2.62959472]\n",
      "Iteration = 80000 delta = 7.548259514988942e-06 Cost = [2.59927226]\n",
      "Iteration = 90000 delta = 6.752329501369392e-06 Cost = [2.57452417]\n",
      "Iteration = 100000 delta = 6.039254505707525e-06 Cost = [2.55504794]\n",
      "Iteration = 110000 delta = 5.3998358686135894e-06 Cost = [2.53960603]\n",
      "Iteration = 120000 delta = 4.826215247111243e-06 Cost = [2.52734064]\n",
      "Iteration = 130000 delta = 4.311602258055824e-06 Cost = [2.51776735]\n",
      "Iteration = 140000 delta = 3.8500479275782595e-06 Cost = [2.51030149]\n",
      "Iteration = 150000 delta = 3.4362751455963014e-06 Cost = [2.50425502]\n",
      "Iteration = 160000 delta = 3.0655575200544405e-06 Cost = [2.49938916]\n",
      "Iteration = 170000 delta = 2.733633907625599e-06 Cost = [2.49561433]\n",
      "Iteration = 180000 delta = 2.4366473375114772e-06 Cost = [2.4928345]\n",
      "Iteration = 190000 delta = 2.1710998493462697e-06 Cost = [2.4906972]\n",
      "Iteration = 200000 delta = 1.933817417254513e-06 Cost = [2.48906197]\n",
      "Iteration = 210000 delta = 1.721921175534824e-06 Cost = [2.48774082]\n",
      "Iteration = 220000 delta = 1.5328026115035698e-06 Cost = [2.48668506]\n",
      "Iteration = 230000 delta = 1.3641013419385395e-06 Cost = [2.4858689]\n",
      "Iteration = 240000 delta = 1.213684697354278e-06 Cost = [2.48522793]\n",
      "Iteration = 250000 delta = 1.079628707767455e-06 Cost = [2.48473957]\n"
     ]
    },
    {
     "data": {
      "text/plain": [
       "array([[0.91999294],\n",
       "       [0.48880885],\n",
       "       [0.4311841 ],\n",
       "       [0.29187364],\n",
       "       [0.4184806 ]])"
      ]
     },
     "execution_count": 9,
     "metadata": {},
     "output_type": "execute_result"
    }
   ],
   "source": [
    "theta = np.zeros((x.shape[1],1))\n",
    "theta_final = training(x,y,theta,1e-6)\n",
    "theta_final"
   ]
  },
  {
   "cell_type": "code",
   "execution_count": 10,
   "metadata": {},
   "outputs": [],
   "source": [
    "df[\"y_prediction\"] = np.exp(x @ theta_final)"
   ]
  },
  {
   "cell_type": "code",
   "execution_count": 11,
   "metadata": {},
   "outputs": [],
   "source": [
    "df[\"difference\"] = abs(df[\"y_prediction\"] - df[\"y\"])"
   ]
  },
  {
   "cell_type": "code",
   "execution_count": 12,
   "metadata": {},
   "outputs": [
    {
     "data": {
      "text/html": [
       "<div>\n",
       "<style scoped>\n",
       "    .dataframe tbody tr th:only-of-type {\n",
       "        vertical-align: middle;\n",
       "    }\n",
       "\n",
       "    .dataframe tbody tr th {\n",
       "        vertical-align: top;\n",
       "    }\n",
       "\n",
       "    .dataframe thead th {\n",
       "        text-align: right;\n",
       "    }\n",
       "</style>\n",
       "<table border=\"1\" class=\"dataframe\">\n",
       "  <thead>\n",
       "    <tr style=\"text-align: right;\">\n",
       "      <th></th>\n",
       "      <th>x_1</th>\n",
       "      <th>x_2</th>\n",
       "      <th>x_3</th>\n",
       "      <th>x_4</th>\n",
       "      <th>y</th>\n",
       "      <th>y_prediction</th>\n",
       "      <th>difference</th>\n",
       "    </tr>\n",
       "  </thead>\n",
       "  <tbody>\n",
       "    <tr>\n",
       "      <th>0</th>\n",
       "      <td>1.0</td>\n",
       "      <td>0.0</td>\n",
       "      <td>2.976142</td>\n",
       "      <td>0.651482</td>\n",
       "      <td>10</td>\n",
       "      <td>12.808281</td>\n",
       "      <td>2.808281</td>\n",
       "    </tr>\n",
       "    <tr>\n",
       "      <th>1</th>\n",
       "      <td>0.0</td>\n",
       "      <td>1.0</td>\n",
       "      <td>1.411390</td>\n",
       "      <td>0.743732</td>\n",
       "      <td>12</td>\n",
       "      <td>7.959466</td>\n",
       "      <td>4.040534</td>\n",
       "    </tr>\n",
       "    <tr>\n",
       "      <th>2</th>\n",
       "      <td>0.0</td>\n",
       "      <td>1.0</td>\n",
       "      <td>1.039892</td>\n",
       "      <td>1.290588</td>\n",
       "      <td>7</td>\n",
       "      <td>8.978026</td>\n",
       "      <td>1.978026</td>\n",
       "    </tr>\n",
       "    <tr>\n",
       "      <th>3</th>\n",
       "      <td>1.0</td>\n",
       "      <td>0.0</td>\n",
       "      <td>2.338679</td>\n",
       "      <td>0.973942</td>\n",
       "      <td>15</td>\n",
       "      <td>12.170029</td>\n",
       "      <td>2.829971</td>\n",
       "    </tr>\n",
       "    <tr>\n",
       "      <th>4</th>\n",
       "      <td>0.0</td>\n",
       "      <td>1.0</td>\n",
       "      <td>2.385257</td>\n",
       "      <td>0.297921</td>\n",
       "      <td>9</td>\n",
       "      <td>8.776211</td>\n",
       "      <td>0.223789</td>\n",
       "    </tr>\n",
       "    <tr>\n",
       "      <th>...</th>\n",
       "      <td>...</td>\n",
       "      <td>...</td>\n",
       "      <td>...</td>\n",
       "      <td>...</td>\n",
       "      <td>...</td>\n",
       "      <td>...</td>\n",
       "      <td>...</td>\n",
       "    </tr>\n",
       "    <tr>\n",
       "      <th>2495</th>\n",
       "      <td>0.0</td>\n",
       "      <td>1.0</td>\n",
       "      <td>2.372802</td>\n",
       "      <td>1.658083</td>\n",
       "      <td>20</td>\n",
       "      <td>15.450030</td>\n",
       "      <td>4.549970</td>\n",
       "    </tr>\n",
       "    <tr>\n",
       "      <th>2496</th>\n",
       "      <td>0.0</td>\n",
       "      <td>1.0</td>\n",
       "      <td>2.681021</td>\n",
       "      <td>1.714153</td>\n",
       "      <td>16</td>\n",
       "      <td>17.305709</td>\n",
       "      <td>1.305709</td>\n",
       "    </tr>\n",
       "    <tr>\n",
       "      <th>2497</th>\n",
       "      <td>0.0</td>\n",
       "      <td>1.0</td>\n",
       "      <td>1.491243</td>\n",
       "      <td>0.841156</td>\n",
       "      <td>7</td>\n",
       "      <td>8.486180</td>\n",
       "      <td>1.486180</td>\n",
       "    </tr>\n",
       "    <tr>\n",
       "      <th>2498</th>\n",
       "      <td>0.0</td>\n",
       "      <td>1.0</td>\n",
       "      <td>2.863177</td>\n",
       "      <td>1.137934</td>\n",
       "      <td>12</td>\n",
       "      <td>14.340194</td>\n",
       "      <td>2.340194</td>\n",
       "    </tr>\n",
       "    <tr>\n",
       "      <th>2499</th>\n",
       "      <td>0.0</td>\n",
       "      <td>1.0</td>\n",
       "      <td>1.825617</td>\n",
       "      <td>0.059309</td>\n",
       "      <td>11</td>\n",
       "      <td>6.745303</td>\n",
       "      <td>4.254697</td>\n",
       "    </tr>\n",
       "  </tbody>\n",
       "</table>\n",
       "<p>2500 rows × 7 columns</p>\n",
       "</div>"
      ],
      "text/plain": [
       "      x_1  x_2       x_3       x_4   y  y_prediction  difference\n",
       "0     1.0  0.0  2.976142  0.651482  10     12.808281    2.808281\n",
       "1     0.0  1.0  1.411390  0.743732  12      7.959466    4.040534\n",
       "2     0.0  1.0  1.039892  1.290588   7      8.978026    1.978026\n",
       "3     1.0  0.0  2.338679  0.973942  15     12.170029    2.829971\n",
       "4     0.0  1.0  2.385257  0.297921   9      8.776211    0.223789\n",
       "...   ...  ...       ...       ...  ..           ...         ...\n",
       "2495  0.0  1.0  2.372802  1.658083  20     15.450030    4.549970\n",
       "2496  0.0  1.0  2.681021  1.714153  16     17.305709    1.305709\n",
       "2497  0.0  1.0  1.491243  0.841156   7      8.486180    1.486180\n",
       "2498  0.0  1.0  2.863177  1.137934  12     14.340194    2.340194\n",
       "2499  0.0  1.0  1.825617  0.059309  11      6.745303    4.254697\n",
       "\n",
       "[2500 rows x 7 columns]"
      ]
     },
     "execution_count": 12,
     "metadata": {},
     "output_type": "execute_result"
    }
   ],
   "source": [
    "df"
   ]
  },
  {
   "cell_type": "code",
   "execution_count": 13,
   "metadata": {},
   "outputs": [
    {
     "data": {
      "text/plain": [
       "<matplotlib.collections.PathCollection at 0x1b1909a5a20>"
      ]
     },
     "execution_count": 13,
     "metadata": {},
     "output_type": "execute_result"
    },
    {
     "data": {
      "image/png": "[encoded data removed]",
      "text/plain": [
       "<Figure size 432x288 with 1 Axes>"
      ]
     },
     "metadata": {
      "needs_background": "light"
     },
     "output_type": "display_data"
    }
   ],
   "source": [
    "y_pred = np.exp(x @ theta_final)\n",
    "plt.scatter(y,y_pred)"
   ]
  },
  {
   "cell_type": "code",
   "execution_count": 14,
   "metadata": {},
   "outputs": [],
   "source": [
    "df_valid = pd.read_csv('valid.csv')"
   ]
  },
  {
   "cell_type": "code",
   "execution_count": 15,
   "metadata": {},
   "outputs": [],
   "source": [
    "x_valid = np.hstack((np.ones((df_valid.shape[0],1)),df_valid[[\"x_1\"]].to_numpy(),df_valid[[\"x_2\"]].to_numpy(),df_valid[[\"x_3\"]].to_numpy(),df_valid[[\"x_4\"]].to_numpy()))\n",
    "y_valid = df_valid[[\"y\"]].to_numpy()"
   ]
  },
  {
   "cell_type": "code",
   "execution_count": 16,
   "metadata": {},
   "outputs": [],
   "source": [
    "df_valid[\"y_predicted\"] = np.exp(x_valid @ theta_final)"
   ]
  },
  {
   "cell_type": "code",
   "execution_count": 17,
   "metadata": {},
   "outputs": [],
   "source": [
    "df_valid[\"difference\"] = abs(df_valid[\"y\"] - df_valid[\"y_predicted\"])"
   ]
  },
  {
   "cell_type": "code",
   "execution_count": 18,
   "metadata": {},
   "outputs": [
    {
     "data": {
      "text/html": [
       "<div>\n",
       "<style scoped>\n",
       "    .dataframe tbody tr th:only-of-type {\n",
       "        vertical-align: middle;\n",
       "    }\n",
       "\n",
       "    .dataframe tbody tr th {\n",
       "        vertical-align: top;\n",
       "    }\n",
       "\n",
       "    .dataframe thead th {\n",
       "        text-align: right;\n",
       "    }\n",
       "</style>\n",
       "<table border=\"1\" class=\"dataframe\">\n",
       "  <thead>\n",
       "    <tr style=\"text-align: right;\">\n",
       "      <th></th>\n",
       "      <th>x_1</th>\n",
       "      <th>x_2</th>\n",
       "      <th>x_3</th>\n",
       "      <th>x_4</th>\n",
       "      <th>y</th>\n",
       "      <th>y_predicted</th>\n",
       "      <th>difference</th>\n",
       "    </tr>\n",
       "  </thead>\n",
       "  <tbody>\n",
       "    <tr>\n",
       "      <th>0</th>\n",
       "      <td>0.0</td>\n",
       "      <td>1.0</td>\n",
       "      <td>2.935941</td>\n",
       "      <td>0.134269</td>\n",
       "      <td>9</td>\n",
       "      <td>9.624288</td>\n",
       "      <td>0.624288</td>\n",
       "    </tr>\n",
       "    <tr>\n",
       "      <th>1</th>\n",
       "      <td>0.0</td>\n",
       "      <td>1.0</td>\n",
       "      <td>1.069621</td>\n",
       "      <td>0.690561</td>\n",
       "      <td>14</td>\n",
       "      <td>7.045279</td>\n",
       "      <td>6.954721</td>\n",
       "    </tr>\n",
       "    <tr>\n",
       "      <th>2</th>\n",
       "      <td>0.0</td>\n",
       "      <td>1.0</td>\n",
       "      <td>2.447227</td>\n",
       "      <td>0.959625</td>\n",
       "      <td>12</td>\n",
       "      <td>11.787535</td>\n",
       "      <td>0.212465</td>\n",
       "    </tr>\n",
       "    <tr>\n",
       "      <th>3</th>\n",
       "      <td>0.0</td>\n",
       "      <td>1.0</td>\n",
       "      <td>1.714148</td>\n",
       "      <td>0.290336</td>\n",
       "      <td>7</td>\n",
       "      <td>7.192161</td>\n",
       "      <td>0.192161</td>\n",
       "    </tr>\n",
       "    <tr>\n",
       "      <th>4</th>\n",
       "      <td>0.0</td>\n",
       "      <td>1.0</td>\n",
       "      <td>2.407992</td>\n",
       "      <td>1.997216</td>\n",
       "      <td>8</td>\n",
       "      <td>17.989759</td>\n",
       "      <td>9.989759</td>\n",
       "    </tr>\n",
       "    <tr>\n",
       "      <th>...</th>\n",
       "      <td>...</td>\n",
       "      <td>...</td>\n",
       "      <td>...</td>\n",
       "      <td>...</td>\n",
       "      <td>...</td>\n",
       "      <td>...</td>\n",
       "      <td>...</td>\n",
       "    </tr>\n",
       "    <tr>\n",
       "      <th>245</th>\n",
       "      <td>0.0</td>\n",
       "      <td>1.0</td>\n",
       "      <td>1.688541</td>\n",
       "      <td>1.352683</td>\n",
       "      <td>10</td>\n",
       "      <td>11.134955</td>\n",
       "      <td>1.134955</td>\n",
       "    </tr>\n",
       "    <tr>\n",
       "      <th>246</th>\n",
       "      <td>0.0</td>\n",
       "      <td>1.0</td>\n",
       "      <td>1.515391</td>\n",
       "      <td>0.958447</td>\n",
       "      <td>5</td>\n",
       "      <td>8.976151</td>\n",
       "      <td>3.976151</td>\n",
       "    </tr>\n",
       "    <tr>\n",
       "      <th>247</th>\n",
       "      <td>0.0</td>\n",
       "      <td>1.0</td>\n",
       "      <td>1.175453</td>\n",
       "      <td>0.469916</td>\n",
       "      <td>6</td>\n",
       "      <td>6.625404</td>\n",
       "      <td>0.625404</td>\n",
       "    </tr>\n",
       "    <tr>\n",
       "      <th>248</th>\n",
       "      <td>0.0</td>\n",
       "      <td>1.0</td>\n",
       "      <td>1.437289</td>\n",
       "      <td>1.704457</td>\n",
       "      <td>8</td>\n",
       "      <td>11.988718</td>\n",
       "      <td>3.988718</td>\n",
       "    </tr>\n",
       "    <tr>\n",
       "      <th>249</th>\n",
       "      <td>1.0</td>\n",
       "      <td>0.0</td>\n",
       "      <td>0.141526</td>\n",
       "      <td>1.929256</td>\n",
       "      <td>2</td>\n",
       "      <td>9.558835</td>\n",
       "      <td>7.558835</td>\n",
       "    </tr>\n",
       "  </tbody>\n",
       "</table>\n",
       "<p>250 rows × 7 columns</p>\n",
       "</div>"
      ],
      "text/plain": [
       "     x_1  x_2       x_3       x_4   y  y_predicted  difference\n",
       "0    0.0  1.0  2.935941  0.134269   9     9.624288    0.624288\n",
       "1    0.0  1.0  1.069621  0.690561  14     7.045279    6.954721\n",
       "2    0.0  1.0  2.447227  0.959625  12    11.787535    0.212465\n",
       "3    0.0  1.0  1.714148  0.290336   7     7.192161    0.192161\n",
       "4    0.0  1.0  2.407992  1.997216   8    17.989759    9.989759\n",
       "..   ...  ...       ...       ...  ..          ...         ...\n",
       "245  0.0  1.0  1.688541  1.352683  10    11.134955    1.134955\n",
       "246  0.0  1.0  1.515391  0.958447   5     8.976151    3.976151\n",
       "247  0.0  1.0  1.175453  0.469916   6     6.625404    0.625404\n",
       "248  0.0  1.0  1.437289  1.704457   8    11.988718    3.988718\n",
       "249  1.0  0.0  0.141526  1.929256   2     9.558835    7.558835\n",
       "\n",
       "[250 rows x 7 columns]"
      ]
     },
     "execution_count": 18,
     "metadata": {},
     "output_type": "execute_result"
    }
   ],
   "source": [
    "df_valid"
   ]
  },
  {
   "cell_type": "code",
   "execution_count": 19,
   "metadata": {},
   "outputs": [
    {
     "data": {
      "text/plain": [
       "Text(0, 0.5, 'predict counts')"
      ]
     },
     "execution_count": 19,
     "metadata": {},
     "output_type": "execute_result"
    },
    {
     "data": {
      "image/png": "[encoded data removed]",
      "text/plain": [
       "<Figure size 432x288 with 1 Axes>"
      ]
     },
     "metadata": {
      "needs_background": "light"
     },
     "output_type": "display_data"
    }
   ],
   "source": [
    "y_pred = np.exp(x_valid @ theta_final)\n",
    "plt.scatter(y_valid, y_pred)\n",
    "plt.xlabel('true counts')\n",
    "plt.ylabel('predict counts')"
   ]
  },
  {
   "cell_type": "code",
   "execution_count": null,
   "metadata": {},
   "outputs": [],
   "source": []
  }
 ],
 "metadata": {
  "kernelspec": {
   "display_name": "Python 3",
   "language": "python",
   "name": "python3"
  },
  "language_info": {
   "codemirror_mode": {
    "name": "ipython",
    "version": 3
   },
   "file_extension": ".py",
   "mimetype": "text/x-python",
   "name": "python",
   "nbconvert_exporter": "python",
   "pygments_lexer": "ipython3",
   "version": "3.6.5"
  }
 },
 "nbformat": 4,
 "nbformat_minor": 4
}
